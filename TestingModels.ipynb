{
  "nbformat": 4,
  "nbformat_minor": 0,
  "metadata": {
    "colab": {
      "provenance": []
    },
    "kernelspec": {
      "name": "python3",
      "display_name": "Python 3"
    },
    "language_info": {
      "name": "python"
    }
  },
  "cells": [
    {
      "cell_type": "markdown",
      "source": [
        "# **Random Forest**"
      ],
      "metadata": {
        "id": "_KUeLm-4Qa2e"
      }
    },
    {
      "cell_type": "code",
      "execution_count": null,
      "metadata": {
        "id": "_ND8X0olOr7K"
      },
      "outputs": [],
      "source": [
        "import pickle\n",
        "import pandas as pd\n",
        "from sklearn.preprocessing import StandardScaler, LabelEncoder\n",
        "from sklearn.metrics import accuracy_score, classification_report, confusion_matrix"
      ]
    },
    {
      "cell_type": "code",
      "source": [
        "# Load the saved model using pickle\n",
        "model_filename = '/content/drive/MyDrive/feelic_best_rf_model.pkl'\n",
        "with open(model_filename, 'rb') as model_file:\n",
        "    loaded_model = pickle.load(model_file)"
      ],
      "metadata": {
        "id": "J_-uuplSO545"
      },
      "execution_count": null,
      "outputs": []
    },
    {
      "cell_type": "code",
      "source": [
        "# Load the dataset into a DataFrame (similar to your previous code)\n",
        "df = pd.read_csv('/content/drive/MyDrive/MusicGenre/new_audio_features.csv')"
      ],
      "metadata": {
        "id": "u-C29vzkO_FW"
      },
      "execution_count": null,
      "outputs": []
    },
    {
      "cell_type": "code",
      "source": [
        "# Separate features (X) and labels (y)\n",
        "X = df.drop(columns=['filename', 'label'])\n",
        "y = df['label']"
      ],
      "metadata": {
        "id": "EqX5WUlAPBXX"
      },
      "execution_count": null,
      "outputs": []
    },
    {
      "cell_type": "code",
      "source": [
        "# Encode labels using Label Encoding\n",
        "label_encoder = LabelEncoder()\n",
        "y_encoded = label_encoder.fit_transform(y)"
      ],
      "metadata": {
        "id": "K2XAuMZIPDL5"
      },
      "execution_count": null,
      "outputs": []
    },
    {
      "cell_type": "code",
      "source": [
        "# Feature Scaling\n",
        "scaler = StandardScaler()\n",
        "X_scaled = scaler.fit_transform(X)"
      ],
      "metadata": {
        "id": "c6CF6BAqPGfg"
      },
      "execution_count": null,
      "outputs": []
    },
    {
      "cell_type": "code",
      "source": [
        "# Evaluate the loaded model on the dataset\n",
        "y_pred = loaded_model.predict(X_scaled)"
      ],
      "metadata": {
        "id": "zbf12ISDPJUQ"
      },
      "execution_count": null,
      "outputs": []
    },
    {
      "cell_type": "code",
      "source": [
        "# Calculate accuracy\n",
        "accuracy = accuracy_score(y_encoded, y_pred)\n",
        "print(f\"Accuracy: {accuracy:.4f}\")"
      ],
      "metadata": {
        "colab": {
          "base_uri": "https://localhost:8080/"
        },
        "id": "leQlOY4IPMdi",
        "outputId": "39b226ad-b652-45af-9452-53e8ac85204d"
      },
      "execution_count": null,
      "outputs": [
        {
          "output_type": "stream",
          "name": "stdout",
          "text": [
            "Accuracy: 0.9313\n"
          ]
        }
      ]
    },
    {
      "cell_type": "code",
      "source": [
        "# Generate classification report\n",
        "print(\"Classification Report:\")\n",
        "print(classification_report(y_encoded, y_pred, target_names=label_encoder.classes_))"
      ],
      "metadata": {
        "colab": {
          "base_uri": "https://localhost:8080/"
        },
        "id": "5pizt_ZdPw9Y",
        "outputId": "d2b592bd-2ae1-47c4-e88a-06cfbc717c34"
      },
      "execution_count": null,
      "outputs": [
        {
          "output_type": "stream",
          "name": "stdout",
          "text": [
            "Classification Report:\n",
            "               precision    recall  f1-score   support\n",
            "\n",
            "        blues       0.96      0.90      0.93        30\n",
            "     bollypop       0.80      0.93      0.86        30\n",
            "     carnatic       0.90      0.93      0.92        30\n",
            "    classical       1.00      1.00      1.00        30\n",
            "      country       0.97      0.97      0.97        30\n",
            "        disco       0.97      0.93      0.95        30\n",
            "       ghazal       1.00      0.97      0.98        30\n",
            "   hindustani       0.91      1.00      0.95        30\n",
            "       hiphop       1.00      0.93      0.97        30\n",
            "         jazz       0.94      1.00      0.97        30\n",
            "        metal       0.97      1.00      0.98        30\n",
            "          pop       0.88      1.00      0.94        30\n",
            "       reggae       0.97      1.00      0.98        30\n",
            "         rock       0.93      0.83      0.88        30\n",
            "semiclassical       0.79      0.77      0.78        30\n",
            "         sufi       0.96      0.73      0.83        30\n",
            "\n",
            "     accuracy                           0.93       480\n",
            "    macro avg       0.93      0.93      0.93       480\n",
            " weighted avg       0.93      0.93      0.93       480\n",
            "\n"
          ]
        }
      ]
    },
    {
      "cell_type": "code",
      "source": [
        "import matplotlib.pyplot as plt\n",
        "plt.figure(figsize=(8, 6))\n",
        "plt.imshow([precision_values], cmap='viridis', aspect='auto')\n",
        "plt.colorbar(label='Precision')\n",
        "plt.xticks(np.arange(len(label_encoder.classes_)), label_encoder.classes_, rotation=45)\n",
        "plt.xlabel('Classes')\n",
        "plt.ylabel('Metrics')\n",
        "plt.title('Precision by Class')\n",
        "plt.tight_layout()\n",
        "plt.show()"
      ],
      "metadata": {
        "id": "6Cb7SKgbGi4R"
      },
      "execution_count": null,
      "outputs": []
    },
    {
      "cell_type": "markdown",
      "source": [
        "# **SVM**"
      ],
      "metadata": {
        "id": "B9WIb5hiPo5q"
      }
    },
    {
      "cell_type": "code",
      "source": [
        "import pickle\n",
        "import pandas as pd\n",
        "from sklearn.preprocessing import StandardScaler, LabelEncoder\n",
        "from sklearn.metrics import accuracy_score, classification_report, confusion_matrix"
      ],
      "metadata": {
        "id": "CpZK4YmDPPTh"
      },
      "execution_count": null,
      "outputs": []
    },
    {
      "cell_type": "code",
      "source": [
        "# Load the saved model using pickle\n",
        "model_filename = '/content/drive/MyDrive/feelic_best_svm_model.pkl'\n",
        "with open(model_filename, 'rb') as model_file:\n",
        "    loaded_model = pickle.load(model_file)"
      ],
      "metadata": {
        "id": "AreHtdnuP14A"
      },
      "execution_count": null,
      "outputs": []
    },
    {
      "cell_type": "code",
      "source": [
        "# Load the dataset into a DataFrame (similar to your previous code)\n",
        "df = pd.read_csv('/content/drive/MyDrive/MusicGenre/new_audio_features.csv')"
      ],
      "metadata": {
        "id": "9TZZ2O-hP6yB"
      },
      "execution_count": null,
      "outputs": []
    },
    {
      "cell_type": "code",
      "source": [
        "# Separate features (X) and labels (y)\n",
        "X = df.drop(columns=['filename', 'label'])\n",
        "y = df['label']"
      ],
      "metadata": {
        "id": "mrY7c-21P9lC"
      },
      "execution_count": null,
      "outputs": []
    },
    {
      "cell_type": "code",
      "source": [
        "# Encode labels using Label Encoding\n",
        "label_encoder = LabelEncoder()\n",
        "y_encoded = label_encoder.fit_transform(y)"
      ],
      "metadata": {
        "id": "XKVJ4ud2QAzw"
      },
      "execution_count": null,
      "outputs": []
    },
    {
      "cell_type": "code",
      "source": [
        "# Feature Scaling\n",
        "scaler = StandardScaler()\n",
        "X_scaled = scaler.fit_transform(X)"
      ],
      "metadata": {
        "id": "c-W5R9vbQGXW"
      },
      "execution_count": null,
      "outputs": []
    },
    {
      "cell_type": "code",
      "source": [
        "# Evaluate the loaded SVM model on the dataset\n",
        "y_pred = loaded_model.predict(X_scaled)"
      ],
      "metadata": {
        "id": "aOPxpL86QKzg"
      },
      "execution_count": null,
      "outputs": []
    },
    {
      "cell_type": "code",
      "source": [
        "# Calculate accuracy\n",
        "accuracy = accuracy_score(y_encoded, y_pred)\n",
        "print(f\"Accuracy: {accuracy:.4f}\")"
      ],
      "metadata": {
        "colab": {
          "base_uri": "https://localhost:8080/"
        },
        "id": "yL3Se3GEQNtL",
        "outputId": "b9d78a3f-693b-4d74-e0de-9b05903cede0"
      },
      "execution_count": null,
      "outputs": [
        {
          "output_type": "stream",
          "name": "stdout",
          "text": [
            "Accuracy: 0.9271\n"
          ]
        }
      ]
    },
    {
      "cell_type": "code",
      "source": [
        "# Generate classification report\n",
        "print(\"Classification Report:\")\n",
        "print(classification_report(y_encoded, y_pred, target_names=label_encoder.classes_))"
      ],
      "metadata": {
        "colab": {
          "base_uri": "https://localhost:8080/"
        },
        "id": "ThZugIpXQRaM",
        "outputId": "8d2c2582-5aaf-4128-8db5-1d0d0ed93802"
      },
      "execution_count": null,
      "outputs": [
        {
          "output_type": "stream",
          "name": "stdout",
          "text": [
            "Classification Report:\n",
            "               precision    recall  f1-score   support\n",
            "\n",
            "        blues       0.96      0.87      0.91        30\n",
            "     bollypop       0.88      0.93      0.90        30\n",
            "     carnatic       0.83      0.83      0.83        30\n",
            "    classical       1.00      1.00      1.00        30\n",
            "      country       1.00      0.93      0.97        30\n",
            "        disco       0.90      0.93      0.92        30\n",
            "       ghazal       1.00      0.97      0.98        30\n",
            "   hindustani       0.97      0.97      0.97        30\n",
            "       hiphop       1.00      0.97      0.98        30\n",
            "         jazz       0.94      1.00      0.97        30\n",
            "        metal       1.00      0.90      0.95        30\n",
            "          pop       0.91      1.00      0.95        30\n",
            "       reggae       0.94      1.00      0.97        30\n",
            "         rock       0.84      0.90      0.87        30\n",
            "semiclassical       0.78      0.83      0.81        30\n",
            "         sufi       0.92      0.80      0.86        30\n",
            "\n",
            "     accuracy                           0.93       480\n",
            "    macro avg       0.93      0.93      0.93       480\n",
            " weighted avg       0.93      0.93      0.93       480\n",
            "\n"
          ]
        }
      ]
    },
    {
      "cell_type": "markdown",
      "source": [
        "# **KNN**"
      ],
      "metadata": {
        "id": "YhlcNTq1QV3S"
      }
    },
    {
      "cell_type": "code",
      "source": [
        "import pickle\n",
        "import pandas as pd\n",
        "from sklearn.preprocessing import StandardScaler, LabelEncoder\n",
        "from sklearn.metrics import accuracy_score, classification_report, confusion_matrix"
      ],
      "metadata": {
        "id": "A90d9jNXQUAF"
      },
      "execution_count": null,
      "outputs": []
    },
    {
      "cell_type": "code",
      "source": [
        "# Load the saved model using pickle\n",
        "model_filename = '/content/drive/MyDrive/feelic_best_knn_model.pkl'\n",
        "with open(model_filename, 'rb') as model_file:\n",
        "    loaded_model = pickle.load(model_file)"
      ],
      "metadata": {
        "id": "iOZuMxLrQly8"
      },
      "execution_count": null,
      "outputs": []
    },
    {
      "cell_type": "code",
      "source": [
        "# Load the dataset into a DataFrame\n",
        "df = pd.read_csv('/content/drive/MyDrive/MusicGenre/new_audio_features.csv')"
      ],
      "metadata": {
        "id": "t3m56dwzQoFZ"
      },
      "execution_count": null,
      "outputs": []
    },
    {
      "cell_type": "code",
      "source": [
        "# Separate features (X) and labels (y)\n",
        "X = df.drop(columns=['filename', 'label'])\n",
        "y = df['label']"
      ],
      "metadata": {
        "id": "2QmZPCOWQsQD"
      },
      "execution_count": null,
      "outputs": []
    },
    {
      "cell_type": "code",
      "source": [
        "# Encode labels using Label Encoding\n",
        "label_encoder = LabelEncoder()\n",
        "y_encoded = label_encoder.fit_transform(y)"
      ],
      "metadata": {
        "id": "iinYIFm1QuSP"
      },
      "execution_count": null,
      "outputs": []
    },
    {
      "cell_type": "code",
      "source": [
        "# Feature Scaling\n",
        "scaler = StandardScaler()\n",
        "X_scaled = scaler.fit_transform(X)"
      ],
      "metadata": {
        "id": "5vB-Jh1XQ0n8"
      },
      "execution_count": null,
      "outputs": []
    },
    {
      "cell_type": "code",
      "source": [
        "# Evaluate the loaded KNN model on the dataset\n",
        "y_pred = loaded_model.predict(X_scaled)"
      ],
      "metadata": {
        "id": "w31IRiFBQ5ED"
      },
      "execution_count": null,
      "outputs": []
    },
    {
      "cell_type": "code",
      "source": [
        "# Calculate accuracy\n",
        "accuracy = accuracy_score(y_encoded, y_pred)\n",
        "print(f\"Accuracy: {accuracy:.4f}\")"
      ],
      "metadata": {
        "colab": {
          "base_uri": "https://localhost:8080/"
        },
        "id": "Ys7v5MOxQ7fY",
        "outputId": "bdfdaa0b-279c-49de-f9b9-acb4e14000d2"
      },
      "execution_count": null,
      "outputs": [
        {
          "output_type": "stream",
          "name": "stdout",
          "text": [
            "Accuracy: 0.9125\n"
          ]
        }
      ]
    },
    {
      "cell_type": "code",
      "source": [
        "# Generate classification report\n",
        "print(\"Classification Report:\")\n",
        "print(classification_report(y_encoded, y_pred, target_names=label_encoder.classes_))"
      ],
      "metadata": {
        "colab": {
          "base_uri": "https://localhost:8080/"
        },
        "id": "hL8Fk9ARQ9mo",
        "outputId": "2a2a645b-058f-439a-f99f-62162860def3"
      },
      "execution_count": null,
      "outputs": [
        {
          "output_type": "stream",
          "name": "stdout",
          "text": [
            "Classification Report:\n",
            "               precision    recall  f1-score   support\n",
            "\n",
            "        blues       0.93      0.90      0.92        30\n",
            "     bollypop       0.79      0.87      0.83        30\n",
            "     carnatic       0.90      0.87      0.88        30\n",
            "    classical       0.94      1.00      0.97        30\n",
            "      country       0.96      0.90      0.93        30\n",
            "        disco       0.96      0.90      0.93        30\n",
            "       ghazal       0.91      1.00      0.95        30\n",
            "   hindustani       1.00      0.97      0.98        30\n",
            "       hiphop       0.97      0.93      0.95        30\n",
            "         jazz       0.93      0.93      0.93        30\n",
            "        metal       0.96      0.90      0.93        30\n",
            "          pop       0.88      1.00      0.94        30\n",
            "       reggae       0.86      1.00      0.92        30\n",
            "         rock       0.85      0.77      0.81        30\n",
            "semiclassical       0.86      0.83      0.85        30\n",
            "         sufi       0.93      0.83      0.88        30\n",
            "\n",
            "     accuracy                           0.91       480\n",
            "    macro avg       0.91      0.91      0.91       480\n",
            " weighted avg       0.91      0.91      0.91       480\n",
            "\n"
          ]
        }
      ]
    },
    {
      "cell_type": "code",
      "source": [],
      "metadata": {
        "id": "bNbvPEfoRIxr"
      },
      "execution_count": null,
      "outputs": []
    }
  ]
}